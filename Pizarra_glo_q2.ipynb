{
 "cells": [
  {
   "cell_type": "code",
   "execution_count": 1,
   "id": "e7a81fd0",
   "metadata": {},
   "outputs": [],
   "source": [
    "#dataset @ https://finance.yahoo.com/quote/GTMEY/history?period1=1633824000&period2=1665360000&interval=1d&filter=history&frequency=1d&includeAdjustedClose=true\n",
    "\n",
    "import pandas as pd\n",
    "import numpy as np\n",
    "import math\n",
    "import tensorflow as tf\n",
    "import matplotlib.pyplot as plt\n",
    "from tensorflow.keras.models import Sequential\n",
    "from tensorflow.keras.layers import *\n",
    "from tensorflow.keras.callbacks import ModelCheckpoint\n",
    "from tensorflow.keras.losses import MeanSquaredError\n",
    "from tensorflow.keras.metrics import RootMeanSquaredError\n",
    "from tensorflow.keras.optimizers import Adam"
   ]
  },
  {
   "cell_type": "code",
   "execution_count": 2,
   "id": "1dea814c",
   "metadata": {},
   "outputs": [
    {
     "data": {
      "text/html": [
       "<div>\n",
       "<style scoped>\n",
       "    .dataframe tbody tr th:only-of-type {\n",
       "        vertical-align: middle;\n",
       "    }\n",
       "\n",
       "    .dataframe tbody tr th {\n",
       "        vertical-align: top;\n",
       "    }\n",
       "\n",
       "    .dataframe thead th {\n",
       "        text-align: right;\n",
       "    }\n",
       "</style>\n",
       "<table border=\"1\" class=\"dataframe\">\n",
       "  <thead>\n",
       "    <tr style=\"text-align: right;\">\n",
       "      <th></th>\n",
       "      <th>Date</th>\n",
       "      <th>Open</th>\n",
       "      <th>High</th>\n",
       "      <th>Low</th>\n",
       "      <th>Close</th>\n",
       "      <th>Adj Close</th>\n",
       "      <th>Volume</th>\n",
       "    </tr>\n",
       "  </thead>\n",
       "  <tbody>\n",
       "    <tr>\n",
       "      <th>0</th>\n",
       "      <td>2020-10-12</td>\n",
       "      <td>41.970001</td>\n",
       "      <td>41.970001</td>\n",
       "      <td>41.970001</td>\n",
       "      <td>41.970001</td>\n",
       "      <td>38.053997</td>\n",
       "      <td>0</td>\n",
       "    </tr>\n",
       "    <tr>\n",
       "      <th>1</th>\n",
       "      <td>2020-10-13</td>\n",
       "      <td>41.970001</td>\n",
       "      <td>41.970001</td>\n",
       "      <td>41.970001</td>\n",
       "      <td>41.970001</td>\n",
       "      <td>38.053997</td>\n",
       "      <td>0</td>\n",
       "    </tr>\n",
       "    <tr>\n",
       "      <th>2</th>\n",
       "      <td>2020-10-14</td>\n",
       "      <td>40.430000</td>\n",
       "      <td>40.430000</td>\n",
       "      <td>40.430000</td>\n",
       "      <td>40.430000</td>\n",
       "      <td>36.657692</td>\n",
       "      <td>500</td>\n",
       "    </tr>\n",
       "    <tr>\n",
       "      <th>3</th>\n",
       "      <td>2020-10-15</td>\n",
       "      <td>40.430000</td>\n",
       "      <td>40.430000</td>\n",
       "      <td>40.430000</td>\n",
       "      <td>40.430000</td>\n",
       "      <td>36.657692</td>\n",
       "      <td>0</td>\n",
       "    </tr>\n",
       "    <tr>\n",
       "      <th>4</th>\n",
       "      <td>2020-10-16</td>\n",
       "      <td>40.430000</td>\n",
       "      <td>40.430000</td>\n",
       "      <td>40.430000</td>\n",
       "      <td>40.430000</td>\n",
       "      <td>36.657692</td>\n",
       "      <td>0</td>\n",
       "    </tr>\n",
       "    <tr>\n",
       "      <th>...</th>\n",
       "      <td>...</td>\n",
       "      <td>...</td>\n",
       "      <td>...</td>\n",
       "      <td>...</td>\n",
       "      <td>...</td>\n",
       "      <td>...</td>\n",
       "      <td>...</td>\n",
       "    </tr>\n",
       "    <tr>\n",
       "      <th>498</th>\n",
       "      <td>2022-10-04</td>\n",
       "      <td>42.000000</td>\n",
       "      <td>42.000000</td>\n",
       "      <td>42.000000</td>\n",
       "      <td>42.000000</td>\n",
       "      <td>42.000000</td>\n",
       "      <td>0</td>\n",
       "    </tr>\n",
       "    <tr>\n",
       "      <th>499</th>\n",
       "      <td>2022-10-05</td>\n",
       "      <td>42.000000</td>\n",
       "      <td>42.000000</td>\n",
       "      <td>42.000000</td>\n",
       "      <td>42.000000</td>\n",
       "      <td>42.000000</td>\n",
       "      <td>0</td>\n",
       "    </tr>\n",
       "    <tr>\n",
       "      <th>500</th>\n",
       "      <td>2022-10-06</td>\n",
       "      <td>42.000000</td>\n",
       "      <td>42.000000</td>\n",
       "      <td>42.000000</td>\n",
       "      <td>42.000000</td>\n",
       "      <td>42.000000</td>\n",
       "      <td>0</td>\n",
       "    </tr>\n",
       "    <tr>\n",
       "      <th>501</th>\n",
       "      <td>2022-10-07</td>\n",
       "      <td>42.000000</td>\n",
       "      <td>42.000000</td>\n",
       "      <td>42.000000</td>\n",
       "      <td>42.000000</td>\n",
       "      <td>42.000000</td>\n",
       "      <td>0</td>\n",
       "    </tr>\n",
       "    <tr>\n",
       "      <th>502</th>\n",
       "      <td>2022-10-10</td>\n",
       "      <td>42.000000</td>\n",
       "      <td>42.000000</td>\n",
       "      <td>42.000000</td>\n",
       "      <td>42.000000</td>\n",
       "      <td>42.000000</td>\n",
       "      <td>0</td>\n",
       "    </tr>\n",
       "  </tbody>\n",
       "</table>\n",
       "<p>503 rows × 7 columns</p>\n",
       "</div>"
      ],
      "text/plain": [
       "           Date       Open       High        Low      Close  Adj Close  Volume\n",
       "0    2020-10-12  41.970001  41.970001  41.970001  41.970001  38.053997       0\n",
       "1    2020-10-13  41.970001  41.970001  41.970001  41.970001  38.053997       0\n",
       "2    2020-10-14  40.430000  40.430000  40.430000  40.430000  36.657692     500\n",
       "3    2020-10-15  40.430000  40.430000  40.430000  40.430000  36.657692       0\n",
       "4    2020-10-16  40.430000  40.430000  40.430000  40.430000  36.657692       0\n",
       "..          ...        ...        ...        ...        ...        ...     ...\n",
       "498  2022-10-04  42.000000  42.000000  42.000000  42.000000  42.000000       0\n",
       "499  2022-10-05  42.000000  42.000000  42.000000  42.000000  42.000000       0\n",
       "500  2022-10-06  42.000000  42.000000  42.000000  42.000000  42.000000       0\n",
       "501  2022-10-07  42.000000  42.000000  42.000000  42.000000  42.000000       0\n",
       "502  2022-10-10  42.000000  42.000000  42.000000  42.000000  42.000000       0\n",
       "\n",
       "[503 rows x 7 columns]"
      ]
     },
     "execution_count": 2,
     "metadata": {},
     "output_type": "execute_result"
    }
   ],
   "source": [
    "import pandas as pd\n",
    "df=pd.read_csv('GTMEY.csv')\n",
    "df"
   ]
  },
  {
   "cell_type": "code",
   "execution_count": 3,
   "id": "cbe10528",
   "metadata": {},
   "outputs": [
    {
     "data": {
      "text/plain": [
       "<AxesSubplot:>"
      ]
     },
     "execution_count": 3,
     "metadata": {},
     "output_type": "execute_result"
    },
    {
     "data": {
      "image/png": "[encoded data removed]",
      "text/plain": [
       "<Figure size 640x480 with 1 Axes>"
      ]
     },
     "metadata": {},
     "output_type": "display_data"
    }
   ],
   "source": [
    "y_gtmey = df['Adj Close']\n",
    "y_gtmey.index=df.index\n",
    "y_gtmey.plot()"
   ]
  },
  {
   "cell_type": "code",
   "execution_count": 4,
   "id": "2a16723b",
   "metadata": {},
   "outputs": [],
   "source": [
    "y_gtmey = y_gtmey.values"
   ]
  },
  {
   "cell_type": "code",
   "execution_count": 5,
   "id": "65b277af",
   "metadata": {},
   "outputs": [
    {
     "name": "stdout",
     "output_type": "stream",
     "text": [
      "402\n"
     ]
    }
   ],
   "source": [
    "training_size = int(y_gtmey.size * 0.8)\n",
    "print(training_size)"
   ]
  },
  {
   "cell_type": "code",
   "execution_count": 6,
   "id": "1384a698",
   "metadata": {},
   "outputs": [],
   "source": [
    "training_mean = y_gtmey[:training_size].mean()\n",
    "training_std = y_gtmey[:training_size].std()\n",
    "# standarize the data\n",
    "y_gtmey = (y_gtmey-training_mean)/training_std"
   ]
  },
  {
   "cell_type": "code",
   "execution_count": 7,
   "id": "daa451c0",
   "metadata": {},
   "outputs": [
    {
     "data": {
      "text/plain": [
       "array([-0.70761928, -0.70761928, -0.82000228, -0.82000228, -0.82000228])"
      ]
     },
     "execution_count": 7,
     "metadata": {},
     "output_type": "execute_result"
    }
   ],
   "source": [
    "y_gtmey[0:5]"
   ]
  },
  {
   "cell_type": "code",
   "execution_count": 8,
   "id": "aa64c4b0",
   "metadata": {},
   "outputs": [],
   "source": [
    "def data_preprocess(dataset, iStart, iEnd, sHistory):\n",
    "  data = []\n",
    "  target = []\n",
    "  # begin with sHistory to have historical data\n",
    "  iStart += sHistory\n",
    "  if iEnd is None:\n",
    "    iEnd = len(dataset)\n",
    "  for i in range(iStart, iEnd):\n",
    "    indices = range(i-sHistory, i)\n",
    "    data.append(np.reshape(dataset[indices], (sHistory, 1)))\n",
    "    target.append(dataset[i])\n",
    "  return np.array(data), np.array(target)"
   ]
  },
  {
   "cell_type": "code",
   "execution_count": 9,
   "id": "3fecff80",
   "metadata": {},
   "outputs": [],
   "source": [
    "past_history = 10\n",
    "xtrain, ytrain = data_preprocess(y_gtmey, 0, training_size, past_history)\n",
    "xtest, ytest = data_preprocess(y_gtmey, training_size, None, past_history)"
   ]
  },
  {
   "cell_type": "code",
   "execution_count": 10,
   "id": "3220d89f",
   "metadata": {},
   "outputs": [
    {
     "data": {
      "text/plain": [
       "array([[-0.30972227],\n",
       "       [-0.30972227],\n",
       "       [-0.30972227],\n",
       "       [-0.30972227],\n",
       "       [-0.30972227],\n",
       "       [-0.30972227],\n",
       "       [-0.30972227],\n",
       "       [-0.30972227],\n",
       "       [-0.30972227],\n",
       "       [-0.30972227]])"
      ]
     },
     "execution_count": 10,
     "metadata": {},
     "output_type": "execute_result"
    }
   ],
   "source": [
    "xtest[0]"
   ]
  },
  {
   "cell_type": "code",
   "execution_count": 11,
   "id": "5c51c6cc",
   "metadata": {},
   "outputs": [
    {
     "data": {
      "text/plain": [
       "array([[-0.30972227],\n",
       "       [-0.30972227],\n",
       "       [-0.30972227],\n",
       "       [-0.30972227],\n",
       "       [-0.30972227],\n",
       "       [-0.30972227],\n",
       "       [-0.30972227],\n",
       "       [-0.30972227],\n",
       "       [-0.30972227],\n",
       "       [-0.30972227]])"
      ]
     },
     "execution_count": 11,
     "metadata": {},
     "output_type": "execute_result"
    }
   ],
   "source": [
    "xtest[1]"
   ]
  },
  {
   "cell_type": "code",
   "execution_count": 12,
   "id": "cb3023fd",
   "metadata": {},
   "outputs": [],
   "source": [
    "tf.random.set_seed(8888)\n",
    "model = tf.keras.models.Sequential([tf.keras.layers.LSTM(8, input_shape=xtrain.shape[-2:]), tf.keras.layers.Dense(1)])"
   ]
  },
  {
   "cell_type": "code",
   "execution_count": 13,
   "id": "bfc7daa5",
   "metadata": {},
   "outputs": [
    {
     "name": "stdout",
     "output_type": "stream",
     "text": [
      "Model: \"sequential\"\n",
      "_________________________________________________________________\n",
      " Layer (type)                Output Shape              Param #   \n",
      "=================================================================\n",
      " lstm (LSTM)                 (None, 8)                 320       \n",
      "                                                                 \n",
      " dense (Dense)               (None, 1)                 9         \n",
      "                                                                 \n",
      "=================================================================\n",
      "Total params: 329\n",
      "Trainable params: 329\n",
      "Non-trainable params: 0\n",
      "_________________________________________________________________\n"
     ]
    }
   ],
   "source": [
    "model.summary()"
   ]
  },
  {
   "cell_type": "code",
   "execution_count": 14,
   "id": "9b2ac697",
   "metadata": {},
   "outputs": [],
   "source": [
    "model.compile(optimizer='Adam', loss='mse')"
   ]
  },
  {
   "cell_type": "code",
   "execution_count": 15,
   "id": "d0407a00",
   "metadata": {},
   "outputs": [],
   "source": [
    "BATCH_SIZE = 16\n",
    "BUFFER_SIZE = 10000\n",
    "\n",
    "p_train = tf.data.Dataset.from_tensor_slices((xtrain, ytrain))\n",
    "p_train = p_train.cache().shuffle(BUFFER_SIZE).batch(BATCH_SIZE).repeat()\n",
    "\n",
    "p_test = tf.data.Dataset.from_tensor_slices((xtest, ytest))\n",
    "p_test = p_test.batch(BATCH_SIZE).repeat()"
   ]
  },
  {
   "cell_type": "code",
   "execution_count": 16,
   "id": "f4af75a3",
   "metadata": {},
   "outputs": [
    {
     "name": "stdout",
     "output_type": "stream",
     "text": [
      "Epoch 1/10\n",
      "200/200 [==============================] - 7s 6ms/step - loss: 0.1881 - val_loss: 0.0510\n",
      "Epoch 2/10\n",
      "200/200 [==============================] - 1s 3ms/step - loss: 0.0716 - val_loss: 0.0514\n",
      "Epoch 3/10\n",
      "200/200 [==============================] - 1s 3ms/step - loss: 0.0617 - val_loss: 0.0554\n",
      "Epoch 4/10\n",
      "200/200 [==============================] - 1s 3ms/step - loss: 0.0552 - val_loss: 0.0595\n",
      "Epoch 5/10\n",
      "200/200 [==============================] - 1s 3ms/step - loss: 0.0510 - val_loss: 0.0591\n",
      "Epoch 6/10\n",
      "200/200 [==============================] - 1s 3ms/step - loss: 0.0479 - val_loss: 0.0620\n",
      "Epoch 7/10\n",
      "200/200 [==============================] - 1s 4ms/step - loss: 0.0454 - val_loss: 0.0624\n",
      "Epoch 8/10\n",
      "200/200 [==============================] - 1s 4ms/step - loss: 0.0432 - val_loss: 0.0616\n",
      "Epoch 9/10\n",
      "200/200 [==============================] - 1s 3ms/step - loss: 0.0412 - val_loss: 0.0630\n",
      "Epoch 10/10\n",
      "200/200 [==============================] - 1s 3ms/step - loss: 0.0393 - val_loss: 0.0652\n"
     ]
    }
   ],
   "source": [
    "history = model.fit(p_train, epochs = 10, steps_per_epoch=200, validation_data=p_test, validation_steps=50)"
   ]
  },
  {
   "cell_type": "code",
   "execution_count": 17,
   "id": "6fe9b948",
   "metadata": {},
   "outputs": [
    {
     "data": {
      "text/html": [
       "<div>\n",
       "<style scoped>\n",
       "    .dataframe tbody tr th:only-of-type {\n",
       "        vertical-align: middle;\n",
       "    }\n",
       "\n",
       "    .dataframe tbody tr th {\n",
       "        vertical-align: top;\n",
       "    }\n",
       "\n",
       "    .dataframe thead th {\n",
       "        text-align: right;\n",
       "    }\n",
       "</style>\n",
       "<table border=\"1\" class=\"dataframe\">\n",
       "  <thead>\n",
       "    <tr style=\"text-align: right;\">\n",
       "      <th></th>\n",
       "      <th>loss</th>\n",
       "      <th>val_loss</th>\n",
       "    </tr>\n",
       "  </thead>\n",
       "  <tbody>\n",
       "    <tr>\n",
       "      <th>0</th>\n",
       "      <td>0.188066</td>\n",
       "      <td>0.050967</td>\n",
       "    </tr>\n",
       "    <tr>\n",
       "      <th>1</th>\n",
       "      <td>0.071583</td>\n",
       "      <td>0.051434</td>\n",
       "    </tr>\n",
       "    <tr>\n",
       "      <th>2</th>\n",
       "      <td>0.061705</td>\n",
       "      <td>0.055355</td>\n",
       "    </tr>\n",
       "    <tr>\n",
       "      <th>3</th>\n",
       "      <td>0.055240</td>\n",
       "      <td>0.059536</td>\n",
       "    </tr>\n",
       "    <tr>\n",
       "      <th>4</th>\n",
       "      <td>0.051050</td>\n",
       "      <td>0.059076</td>\n",
       "    </tr>\n",
       "  </tbody>\n",
       "</table>\n",
       "</div>"
      ],
      "text/plain": [
       "       loss  val_loss\n",
       "0  0.188066  0.050967\n",
       "1  0.071583  0.051434\n",
       "2  0.061705  0.055355\n",
       "3  0.055240  0.059536\n",
       "4  0.051050  0.059076"
      ]
     },
     "execution_count": 17,
     "metadata": {},
     "output_type": "execute_result"
    }
   ],
   "source": [
    "hist = pd.DataFrame(history.history)\n",
    "hist.head()"
   ]
  },
  {
   "cell_type": "code",
   "execution_count": 18,
   "id": "803d8ea1",
   "metadata": {},
   "outputs": [
    {
     "data": {
      "text/plain": [
       "<AxesSubplot:>"
      ]
     },
     "execution_count": 18,
     "metadata": {},
     "output_type": "execute_result"
    },
    {
     "data": {
      "image/png": "[encoded data removed]",
      "text/plain": [
       "<Figure size 640x480 with 1 Axes>"
      ]
     },
     "metadata": {},
     "output_type": "display_data"
    }
   ],
   "source": [
    "hist.plot()"
   ]
  },
  {
   "cell_type": "code",
   "execution_count": 19,
   "id": "6e551aad",
   "metadata": {},
   "outputs": [
    {
     "name": "stdout",
     "output_type": "stream",
     "text": [
      "1/1 [==============================] - 0s 381ms/step\n",
      "1/1 [==============================] - 0s 15ms/step\n",
      "1/1 [==============================] - 0s 16ms/step\n",
      "1/1 [==============================] - 0s 15ms/step\n",
      "1/1 [==============================] - 0s 22ms/step\n",
      "1/1 [==============================] - 0s 18ms/step\n",
      "1/1 [==============================] - 0s 20ms/step\n",
      "1/1 [==============================] - 0s 17ms/step\n",
      "1/1 [==============================] - 0s 16ms/step\n",
      "1/1 [==============================] - 0s 16ms/step\n",
      "1/1 [==============================] - 0s 15ms/step\n",
      "1/1 [==============================] - 0s 16ms/step\n",
      "1/1 [==============================] - 0s 16ms/step\n",
      "1/1 [==============================] - 0s 16ms/step\n",
      "1/1 [==============================] - 0s 15ms/step\n",
      "1/1 [==============================] - 0s 16ms/step\n",
      "1/1 [==============================] - 0s 15ms/step\n",
      "1/1 [==============================] - 0s 16ms/step\n",
      "1/1 [==============================] - 0s 16ms/step\n",
      "1/1 [==============================] - 0s 16ms/step\n"
     ]
    }
   ],
   "source": [
    "predicted_value = []\n",
    "gtmey_orig = []\n",
    "count =0;\n",
    "for x, y in p_train.take(20):\n",
    "  gtmey_orig.append(y[0].numpy())\n",
    "  t_pred= model.predict(x)\n",
    "  predicted_value.append(t_pred[0])"
   ]
  },
  {
   "cell_type": "code",
   "execution_count": 20,
   "id": "a318962a",
   "metadata": {
    "scrolled": true
   },
   "outputs": [
    {
     "data": {
      "text/plain": [
       "<AxesSubplot:>"
      ]
     },
     "execution_count": 20,
     "metadata": {},
     "output_type": "execute_result"
    },
    {
     "data": {
      "image/png": "[encoded data removed]",
      "text/plain": [
       "<Figure size 640x480 with 1 Axes>"
      ]
     },
     "metadata": {},
     "output_type": "display_data"
    }
   ],
   "source": [
    "y_pred = [predicted_value[i][0] for i in range(len(predicted_value))]\n",
    "result_gtmey = pd.DataFrame({'predicted':y_pred, 'target':gtmey_orig})\n",
    "result_gtmey.plot()"
   ]
  },
  {
   "cell_type": "code",
   "execution_count": 21,
   "id": "19991702",
   "metadata": {},
   "outputs": [],
   "source": [
    "(result_gtmey).to_csv(\"pizarra_glo_forecast.csv\")"
   ]
  },
  {
   "cell_type": "code",
   "execution_count": null,
   "id": "3ba53e75",
   "metadata": {},
   "outputs": [],
   "source": []
  }
 ],
 "metadata": {
  "kernelspec": {
   "display_name": "Python 3 (ipykernel)",
   "language": "python",
   "name": "python3"
  },
  "language_info": {
   "codemirror_mode": {
    "name": "ipython",
    "version": 3
   },
   "file_extension": ".py",
   "mimetype": "text/x-python",
   "name": "python",
   "nbconvert_exporter": "python",
   "pygments_lexer": "ipython3",
   "version": "3.10.7"
  }
 },
 "nbformat": 4,
 "nbformat_minor": 5
}
